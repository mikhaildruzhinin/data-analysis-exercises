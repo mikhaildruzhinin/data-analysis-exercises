{
 "cells": [
  {
   "cell_type": "code",
   "execution_count": 1,
   "metadata": {},
   "outputs": [],
   "source": [
    "import numpy as np\n",
    "import matplotlib.pyplot as plt\n",
    "import pandas as pd"
   ]
  },
  {
   "cell_type": "markdown",
   "metadata": {},
   "source": [
    "### Задача 1\n",
    "Создать объект Series, в котором лежат вычисленные значения косинусов от 0 до 4pi с шагом pi/4 с подписями. Построить график."
   ]
  },
  {
   "cell_type": "code",
   "execution_count": 2,
   "metadata": {
    "scrolled": true
   },
   "outputs": [
    {
     "data": {
      "text/plain": [
       "0         0.000000e+00\n",
       "1/8pi     3.826834e-01\n",
       "1/4pi     7.071068e-01\n",
       "3/8pi     9.238795e-01\n",
       "1/2pi     1.000000e+00\n",
       "5/8pi     9.238795e-01\n",
       "3/4pi     7.071068e-01\n",
       "7/8pi     3.826834e-01\n",
       "1/1pi     1.224647e-16\n",
       "9/8pi    -3.826834e-01\n",
       "5/4pi    -7.071068e-01\n",
       "11/8pi   -9.238795e-01\n",
       "3/2pi    -1.000000e+00\n",
       "13/8pi   -9.238795e-01\n",
       "7/4pi    -7.071068e-01\n",
       "15/8pi   -3.826834e-01\n",
       "2/1pi    -2.449294e-16\n",
       "17/8pi    3.826834e-01\n",
       "9/4pi     7.071068e-01\n",
       "19/8pi    9.238795e-01\n",
       "5/2pi     1.000000e+00\n",
       "21/8pi    9.238795e-01\n",
       "11/4pi    7.071068e-01\n",
       "23/8pi    3.826834e-01\n",
       "3/1pi     3.673940e-16\n",
       "25/8pi   -3.826834e-01\n",
       "13/4pi   -7.071068e-01\n",
       "27/8pi   -9.238795e-01\n",
       "7/2pi    -1.000000e+00\n",
       "29/8pi   -9.238795e-01\n",
       "15/4pi   -7.071068e-01\n",
       "31/8pi   -3.826834e-01\n",
       "dtype: float64"
      ]
     },
     "execution_count": 2,
     "metadata": {},
     "output_type": "execute_result"
    }
   ],
   "source": [
    "numerator = np.arange(0, 32)\n",
    "denominator = np.full(32, 8)\n",
    "gcd = np.gcd(numerator, denominator)\n",
    "numerator = numerator//gcd\n",
    "denominator = denominator//gcd\n",
    "\n",
    "n = numerator.astype((np.str_, 2))\n",
    "d = denominator.astype((np.str_, 1))\n",
    "\n",
    "\n",
    "res = np.char.add(n, '/')\n",
    "res = np.char.add(res, d)\n",
    "res = np.char.add(res, 'pi')\n",
    "res[0] = 0\n",
    "\n",
    "x = numerator/denominator * np.pi\n",
    "y = np.sin(x)\n",
    "\n",
    "col = pd.Series(y, res)\n",
    "col"
   ]
  },
  {
   "cell_type": "code",
   "execution_count": 3,
   "metadata": {},
   "outputs": [
    {
     "data": {
      "image/png": "[encoded data removed]",
      "text/plain": [
       "<Figure size 432x288 with 1 Axes>"
      ]
     },
     "metadata": {
      "needs_background": "light"
     },
     "output_type": "display_data"
    }
   ],
   "source": [
    "col.plot()\n",
    "plt.show()"
   ]
  },
  {
   "cell_type": "markdown",
   "metadata": {},
   "source": [
    "### Задача 2\n",
    "\n",
    "из файла programming_languages.csv собрать колонку, где подписи строк - это названия языков, а значения - это доля языка программирования в %, при этом не используя встроенный в pandas csv-парсер."
   ]
  },
  {
   "cell_type": "code",
   "execution_count": 4,
   "metadata": {},
   "outputs": [
    {
     "data": {
      "text/plain": [
       "Python          31.60\n",
       "Java            17.67\n",
       "Javascript       8.02\n",
       "C#               6.87\n",
       "PHP              6.02\n",
       "C/C++            5.69\n",
       "R                3.86\n",
       "Objective-C      2.50\n",
       "Swift            2.24\n",
       "TypeScript       1.86\n",
       "Matlab           1.72\n",
       "Kotlin           1.54\n",
       "Go               1.29\n",
       "VBA              1.24\n",
       "Ruby             1.23\n",
       "Scala            1.00\n",
       "Visual Basic     0.88\n",
       "Rust             0.78\n",
       "Dart             0.50\n",
       "Perl             0.46\n",
       "Abap             0.45\n",
       "Lua              0.44\n",
       "Ada              0.43\n",
       "Groovy           0.41\n",
       "Julia            0.39\n",
       "Cobol            0.37\n",
       "Haskell          0.28\n",
       "Delphi           0.27\n",
       "dtype: float32"
      ]
     },
     "execution_count": 4,
     "metadata": {},
     "output_type": "execute_result"
    }
   ],
   "source": [
    "f = open('data/programming_languages.csv')\n",
    "lines = f.readlines()\n",
    "\n",
    "rows_n = len(lines) - 1\n",
    "\n",
    "languages = np.empty(rows_n, dtype=(np.str_, 16))\n",
    "shares = np.zeros(rows_n, dtype=np.float32)\n",
    "\n",
    "for i, line in enumerate(lines[1:]):\n",
    "    col = line.split(';')\n",
    "    language = col[2]\n",
    "    share = col[-2].replace(' ', '').replace('%','')\n",
    "    languages[i] = language\n",
    "    shares[i] = share\n",
    "language_stat = pd.Series(shares, languages)\n",
    "language_stat"
   ]
  },
  {
   "cell_type": "code",
   "execution_count": null,
   "metadata": {},
   "outputs": [],
   "source": []
  }
 ],
 "metadata": {
  "kernelspec": {
   "display_name": "Python 3",
   "language": "python",
   "name": "python3"
  },
  "language_info": {
   "codemirror_mode": {
    "name": "ipython",
    "version": 3
   },
   "file_extension": ".py",
   "mimetype": "text/x-python",
   "name": "python",
   "nbconvert_exporter": "python",
   "pygments_lexer": "ipython3",
   "version": "3.7.0"
  }
 },
 "nbformat": 4,
 "nbformat_minor": 4
}
