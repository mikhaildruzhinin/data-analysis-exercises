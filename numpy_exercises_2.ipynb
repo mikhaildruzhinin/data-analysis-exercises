{
 "cells": [
  {
   "cell_type": "code",
   "execution_count": 1,
   "metadata": {},
   "outputs": [],
   "source": [
    "import numpy as np"
   ]
  },
  {
   "cell_type": "code",
   "execution_count": 2,
   "metadata": {},
   "outputs": [],
   "source": [
    "import csv"
   ]
  },
  {
   "cell_type": "markdown",
   "metadata": {},
   "source": [
    "1) Из файла countries.csv собрать двумерный массив  (dtype = uint32)."
   ]
  },
  {
   "cell_type": "code",
   "execution_count": 3,
   "metadata": {},
   "outputs": [
    {
     "data": {
      "text/plain": [
       "array([[ 8425333,  9240934, 10267083, ..., 22227415, 25268405, 31889923],\n",
       "       [ 1282697,  1476505,  1728137, ...,  3428038,  3508512,  3600523],\n",
       "       [ 9279525, 10270856, 11000948, ..., 29072015, 31287142, 33333216],\n",
       "       ...,\n",
       "       [ 4963829,  5498090,  6120081, ..., 15826497, 18701257, 22211743],\n",
       "       [ 2672000,  3016000,  3421000, ...,  9417789, 10595811, 11746035],\n",
       "       [ 3080907,  3646340,  4277736, ..., 11404948, 11926563, 12311143]],\n",
       "      dtype=int32)"
      ]
     },
     "execution_count": 3,
     "metadata": {},
     "output_type": "execute_result"
    }
   ],
   "source": [
    "f = open('data/countries.csv')\n",
    "data = csv.reader(f)\n",
    "\n",
    "populations = np.zeros(1704, dtype=np.int32)\n",
    "\n",
    "for i, row in enumerate(data):\n",
    "    if row[-1].isdigit():\n",
    "        populations[i-1] = int(row[-1])\n",
    "\n",
    "populations.reshape((142,12))"
   ]
  },
  {
   "cell_type": "code",
   "execution_count": null,
   "metadata": {},
   "outputs": [],
   "source": []
  }
 ],
 "metadata": {
  "kernelspec": {
   "display_name": "Python 3",
   "language": "python",
   "name": "python3"
  },
  "language_info": {
   "codemirror_mode": {
    "name": "ipython",
    "version": 3
   },
   "file_extension": ".py",
   "mimetype": "text/x-python",
   "name": "python",
   "nbconvert_exporter": "python",
   "pygments_lexer": "ipython3",
   "version": "3.7.0"
  }
 },
 "nbformat": 4,
 "nbformat_minor": 4
}
