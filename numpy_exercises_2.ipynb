{
 "cells": [
  {
   "cell_type": "code",
   "execution_count": 1,
   "metadata": {},
   "outputs": [],
   "source": [
    "import numpy as np"
   ]
  },
  {
   "cell_type": "code",
   "execution_count": 2,
   "metadata": {},
   "outputs": [],
   "source": [
    "import csv"
   ]
  },
  {
   "cell_type": "markdown",
   "metadata": {},
   "source": [
    "1) Из файла countries.csv собрать двумерный массив  (dtype = uint32)."
   ]
  },
  {
   "cell_type": "code",
   "execution_count": 3,
   "metadata": {},
   "outputs": [],
   "source": [
    "f = open('data/countries.csv')\n",
    "data = csv.reader(f)\n",
    "\n",
    "populations = np.zeros(1704, dtype=np.int32)\n",
    "\n",
    "for i, row in enumerate(data):\n",
    "    if row[-1].isdigit():\n",
    "        populations[i-1] = int(row[-1])\n",
    "\n",
    "populations = populations.reshape((142,12))"
   ]
  },
  {
   "cell_type": "markdown",
   "metadata": {},
   "source": [
    "2) Вывести на экран массив с населением Зимбабве за все годы."
   ]
  },
  {
   "cell_type": "code",
   "execution_count": 4,
   "metadata": {},
   "outputs": [
    {
     "data": {
      "text/plain": [
       "array([ 3080907,  3646340,  4277736,  4995432,  5861135,  6642107,\n",
       "        7636524,  9216418, 10704340, 11404948, 11926563, 12311143],\n",
       "      dtype=int32)"
      ]
     },
     "execution_count": 4,
     "metadata": {},
     "output_type": "execute_result"
    }
   ],
   "source": [
    "populations[-1,:]"
   ]
  },
  {
   "cell_type": "markdown",
   "metadata": {},
   "source": [
    "3) Вывести на экран массив с населением всех стран в 2002 году. Найти самое большое население. Найти популяцию (сумму) всех стран в этом году."
   ]
  },
  {
   "cell_type": "code",
   "execution_count": 5,
   "metadata": {},
   "outputs": [
    {
     "name": "stdout",
     "output_type": "stream",
     "text": [
      "1280400000\n",
      "5886977579\n"
     ]
    }
   ],
   "source": [
    "print(populations[:,-2].max())\n",
    "print(populations[:,-2].sum())"
   ]
  },
  {
   "cell_type": "markdown",
   "metadata": {},
   "source": [
    "4) Собрать курсы доллара к рублю за последние 100 дней в массив."
   ]
  },
  {
   "cell_type": "code",
   "execution_count": 6,
   "metadata": {},
   "outputs": [],
   "source": [
    "import requests\n",
    "import xml.etree.ElementTree as et"
   ]
  },
  {
   "cell_type": "code",
   "execution_count": 7,
   "metadata": {},
   "outputs": [],
   "source": [
    "url = r'http://www.cbr.ru/scripts/XML_dynamic.asp?date_req1=01/02/2020&date_req2=07/07/2020&VAL_NM_RQ=R01235'\n",
    "res = requests.get(url)\n",
    "res.raise_for_status()\n",
    "xml = res.text\n",
    "\n",
    "tree = et.fromstring(xml)\n",
    "\n",
    "rates = np.empty(100, dtype=np.float64)\n",
    "i = 0\n",
    "\n",
    "for e in tree:\n",
    "    for e2 in e:\n",
    "        if e2.tag == 'Value':\n",
    "            rate = e2.text.replace(',','.')\n",
    "            # rate = float(rate)\n",
    "            rates[i] = rate\n",
    "            i += 1"
   ]
  },
  {
   "cell_type": "code",
   "execution_count": 8,
   "metadata": {},
   "outputs": [
    {
     "data": {
      "text/plain": [
       "array([63.1385, 63.9091, 63.4342, 63.1742, 62.7977, 63.472 , 63.7708,\n",
       "       63.949 , 63.047 , 63.6016, 63.4536, 63.3085, 63.7698, 63.6873,\n",
       "       63.7413, 64.3008, 64.9213, 65.5177, 65.6097, 66.9909, 66.3274,\n",
       "       66.4437, 66.0784, 66.1854, 67.5175, 72.0208, 71.472 , 74.0274,\n",
       "       73.1882, 74.1262, 73.8896, 77.2131, 80.157 , 78.0443, 80.8815,\n",
       "       78.8493, 77.7928, 78.7223, 77.7325, 76.4074, 75.455 , 75.7499,\n",
       "       74.605 , 73.7515, 73.5245, 73.315 , 73.7145, 74.7119, 73.9441,\n",
       "       74.6657, 76.2562, 77.0416, 75.129 , 74.7163, 74.496 , 74.5706,\n",
       "       73.6894, 72.7263, 73.9719, 74.1169, 73.8725, 73.4326, 73.5819,\n",
       "       73.9298, 73.2056, 72.9798, 72.3918, 72.3381, 70.924 , 71.8804,\n",
       "       71.5962, 71.1408, 71.0635, 71.1012, 70.752 , 69.7114, 68.9831,\n",
       "       68.3413, 69.0151, 68.6319, 68.3123, 68.6745, 68.6183, 69.1219,\n",
       "       70.395 , 69.7524, 69.4822, 69.618 , 69.5725, 69.4835, 68.8376,\n",
       "       68.8376, 69.466 , 69.1284, 69.9513, 70.4413, 70.4413, 70.5198,\n",
       "       70.4999, 71.3409])"
      ]
     },
     "execution_count": 8,
     "metadata": {},
     "output_type": "execute_result"
    }
   ],
   "source": [
    "rates"
   ]
  },
  {
   "cell_type": "markdown",
   "metadata": {},
   "source": [
    "5) Нормализовать курсы относительно минимального"
   ]
  },
  {
   "cell_type": "code",
   "execution_count": 9,
   "metadata": {},
   "outputs": [
    {
     "data": {
      "text/plain": [
       "array([ 0.3408,  1.1114,  0.6365,  0.3765,  0.    ,  0.6743,  0.9731,\n",
       "        1.1513,  0.2493,  0.8039,  0.6559,  0.5108,  0.9721,  0.8896,\n",
       "        0.9436,  1.5031,  2.1236,  2.72  ,  2.812 ,  4.1932,  3.5297,\n",
       "        3.646 ,  3.2807,  3.3877,  4.7198,  9.2231,  8.6743, 11.2297,\n",
       "       10.3905, 11.3285, 11.0919, 14.4154, 17.3593, 15.2466, 18.0838,\n",
       "       16.0516, 14.9951, 15.9246, 14.9348, 13.6097, 12.6573, 12.9522,\n",
       "       11.8073, 10.9538, 10.7268, 10.5173, 10.9168, 11.9142, 11.1464,\n",
       "       11.868 , 13.4585, 14.2439, 12.3313, 11.9186, 11.6983, 11.7729,\n",
       "       10.8917,  9.9286, 11.1742, 11.3192, 11.0748, 10.6349, 10.7842,\n",
       "       11.1321, 10.4079, 10.1821,  9.5941,  9.5404,  8.1263,  9.0827,\n",
       "        8.7985,  8.3431,  8.2658,  8.3035,  7.9543,  6.9137,  6.1854,\n",
       "        5.5436,  6.2174,  5.8342,  5.5146,  5.8768,  5.8206,  6.3242,\n",
       "        7.5973,  6.9547,  6.6845,  6.8203,  6.7748,  6.6858,  6.0399,\n",
       "        6.0399,  6.6683,  6.3307,  7.1536,  7.6436,  7.6436,  7.7221,\n",
       "        7.7022,  8.5432])"
      ]
     },
     "execution_count": 9,
     "metadata": {},
     "output_type": "execute_result"
    }
   ],
   "source": [
    "rates - rates.min()"
   ]
  },
  {
   "cell_type": "code",
   "execution_count": null,
   "metadata": {},
   "outputs": [],
   "source": []
  }
 ],
 "metadata": {
  "kernelspec": {
   "display_name": "Python 3",
   "language": "python",
   "name": "python3"
  },
  "language_info": {
   "codemirror_mode": {
    "name": "ipython",
    "version": 3
   },
   "file_extension": ".py",
   "mimetype": "text/x-python",
   "name": "python",
   "nbconvert_exporter": "python",
   "pygments_lexer": "ipython3",
   "version": "3.7.0"
  }
 },
 "nbformat": 4,
 "nbformat_minor": 4
}
